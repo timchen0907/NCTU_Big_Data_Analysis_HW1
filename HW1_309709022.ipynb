{
 "cells": [
  {
   "cell_type": "code",
   "execution_count": 1,
   "id": "192200ba",
   "metadata": {},
   "outputs": [],
   "source": [
    "###########\n",
    "# 載入套件 #\n",
    "###########\n",
    "import findspark\n",
    "findspark.init()\n",
    "import pyspark\n",
    "findspark.find()\n",
    "import pandas as pd\n",
    "from pyspark import SparkContext\n",
    "from pyspark.sql import SQLContext, SparkSession\n",
    "from pyspark.sql.functions import *\n"
   ]
  },
  {
   "cell_type": "code",
   "execution_count": 4,
   "id": "5a0906b3",
   "metadata": {},
   "outputs": [],
   "source": [
    "############################\n",
    "# 建立Spark相關語法&讀取資料 #\n",
    "############################\n",
    "spark = SparkSession.builder.enableHiveSupport().getOrCreate()\n",
    "spark.conf.set(\"spark.sql.execution.arrow.enabled\", 'true')\n",
    "sc = SparkContext.getOrCreate()\n",
    "sqlContext = SQLContext(spark)\n",
    "data_jan = spark.read.csv('./yellow_tripdata_2009-01.csv', header=True, sep=',')\n",
    "data_feb = spark.read.csv('./yellow_tripdata_2009-02.csv', header=True, sep=',')\n",
    "data_mar = spark.read.csv('./yellow_tripdata_2009-03.csv', header=True, sep=',')\n",
    "\n"
   ]
  },
  {
   "cell_type": "code",
   "execution_count": 5,
   "id": "c3772751",
   "metadata": {},
   "outputs": [],
   "source": [
    "###########\n",
    "# 資料清理 #\n",
    "###########\n",
    "concat_data = data_jan.union(data_feb)\n",
    "concat_data = concat_data.union(data_mar)\n",
    "concat_data = concat_data.filter(concat_data.Start_Lon != 0)\n",
    "concat_data = concat_data.filter(concat_data.Start_Lat != 0)\n",
    "concat_data = concat_data.filter(concat_data.End_Lon != 0)\n",
    "concat_data = concat_data.filter(concat_data.End_Lat != 0)\n",
    "concat_data = concat_data.filter(concat_data.Fare_Amt > 1)\n",
    "concat_data = concat_data.filter(concat_data.Passenger_Count > 0)\n",
    "concat_data = concat_data.withColumn('Payment_Type_New', when(concat_data.Payment_Type == 'CASH', 'Cash').when(concat_data.Payment_Type == 'CREDIT', 'Credit').otherwise(concat_data.Payment_Type))\n",
    "\n"
   ]
  },
  {
   "cell_type": "code",
   "execution_count": 6,
   "id": "fd9b3f6f",
   "metadata": {},
   "outputs": [
    {
     "name": "stdout",
     "output_type": "stream",
     "text": [
      "+-------------------+------------------+-----+\n",
      "|Start_Lon          |Start_Lat         |count|\n",
      "+-------------------+------------------+-----+\n",
      "|-73.137393000000003|41.366137999999999|54541|\n",
      "|-73.951818000000003|40.733696999999999|5197 |\n",
      "|-73.988536999999994|40.698458000000002|2286 |\n",
      "|-73.989039000000005|40.75808          |1336 |\n",
      "|-73.945795000000004|40.778751999999997|1331 |\n",
      "|-73.989053999999996|40.758087000000003|1136 |\n",
      "|-73.937512999999996|40.758152000000003|1042 |\n",
      "|-73.952003000000005|40.733759999999997|859  |\n",
      "|-73.991084999999998|40.733310000000003|827  |\n",
      "|-73.989047999999997|40.758083999999997|774  |\n",
      "+-------------------+------------------+-----+\n",
      "only showing top 10 rows\n",
      "\n"
     ]
    }
   ],
   "source": [
    "######\n",
    "# Q1 #\n",
    "######\n",
    "#Q1-1\n",
    "concat_data.groupby('Start_Lon','Start_Lat').count().sort('count', ascending=False).show(truncate=False,n=10)\n",
    "\n"
   ]
  },
  {
   "cell_type": "code",
   "execution_count": 5,
   "id": "589593fe",
   "metadata": {},
   "outputs": [
    {
     "name": "stdout",
     "output_type": "stream",
     "text": [
      "+-------------------+------------------+-----+\n",
      "|End_Lon            |End_Lat           |count|\n",
      "+-------------------+------------------+-----+\n",
      "|-73.137393000000003|41.366137999999999|45724|\n",
      "|-73.951818000000003|40.733696999999999|5197 |\n",
      "|-73.988536999999994|40.698458000000002|2286 |\n",
      "|-73.989039000000005|40.75808          |1336 |\n",
      "|-73.945795000000004|40.778751999999997|1331 |\n",
      "|-73.989053999999996|40.758087000000003|1136 |\n",
      "|-73.937512999999996|40.758152000000003|1044 |\n",
      "|-73.952003000000005|40.733759999999997|859  |\n",
      "|-73.991084999999998|40.733310000000003|828  |\n",
      "|-73.989047999999997|40.758083999999997|774  |\n",
      "+-------------------+------------------+-----+\n",
      "only showing top 10 rows\n",
      "\n"
     ]
    }
   ],
   "source": [
    "#Q1-2\n",
    "concat_data.groupby('End_Lon','End_Lat').count().sort('count', ascending=False).show(truncate=False,n=10)\n",
    "\n"
   ]
  },
  {
   "cell_type": "code",
   "execution_count": 6,
   "id": "d9305948",
   "metadata": {},
   "outputs": [
    {
     "name": "stdout",
     "output_type": "stream",
     "text": [
      "+------+-------+\n",
      "|pickup|count  |\n",
      "+------+-------+\n",
      "|19    |2730956|\n",
      "|18    |2647195|\n",
      "|20    |2459694|\n",
      "|21    |2338148|\n",
      "|22    |2267936|\n",
      "|17    |2218048|\n",
      "|15    |2053659|\n",
      "|14    |2027168|\n",
      "|23    |1976869|\n",
      "|12    |1942527|\n",
      "|13    |1934311|\n",
      "|8     |1912203|\n",
      "|9     |1907802|\n",
      "|16    |1899858|\n",
      "|11    |1779785|\n",
      "|10    |1740495|\n",
      "|0     |1596750|\n",
      "|7     |1453983|\n",
      "|1     |1172730|\n",
      "|2     |880165 |\n",
      "|6     |791182 |\n",
      "|3     |664392 |\n",
      "|4     |480862 |\n",
      "|5     |373397 |\n",
      "+------+-------+\n",
      "\n"
     ]
    }
   ],
   "source": [
    "######\n",
    "# Q2 #\n",
    "######\n",
    "concat_data = concat_data.withColumn(\"pickup\", hour('Trip_Pickup_DateTime'))\n",
    "concat_data.groupby('pickup').count().sort('count', ascending=False).show(truncate=False, n=24)\n",
    "\n"
   ]
  },
  {
   "cell_type": "code",
   "execution_count": 9,
   "id": "04e47069",
   "metadata": {},
   "outputs": [
    {
     "data": {
      "text/plain": [
       "<AxesSubplot:xlabel='Payment_Type_New'>"
      ]
     },
     "execution_count": 9,
     "metadata": {},
     "output_type": "execute_result"
    },
    {
     "data": {
      "image/png": "[encoded data removed]",
      "text/plain": [
       "<Figure size 432x288 with 1 Axes>"
      ]
     },
     "metadata": {
      "needs_background": "light"
     },
     "output_type": "display_data"
    }
   ],
   "source": [
    "######\n",
    "# Q3 #\n",
    "######\n",
    "import matplotlib.pyplot as plt\n",
    "from pyspark.sql.functions import mean as _mean, col\n",
    "stats_data = concat_data.select(_mean(col('Total_Amt')).alias('mean')).collect()\n",
    "data_mean = stats_data[0]['mean']\n",
    "new_concat_data = concat_data.withColumn('big&small', when(concat_data.Total_Amt >= data_mean, 'big').when(concat_data.Total_Amt < data_mean, 'small'))\n",
    "\n",
    "bar_plot = new_concat_data.groupby('Payment_Type_New','big&small').count().sort('count', ascending=False).toPandas()\n",
    "bar_plot.pivot('Payment_Type_New','big&small','count').plot.bar(stacked=False)\n",
    "\n"
   ]
  }
 ],
 "metadata": {
  "kernelspec": {
   "display_name": "Python 3 (ipykernel)",
   "language": "python",
   "name": "python3"
  },
  "language_info": {
   "codemirror_mode": {
    "name": "ipython",
    "version": 3
   },
   "file_extension": ".py",
   "mimetype": "text/x-python",
   "name": "python",
   "nbconvert_exporter": "python",
   "pygments_lexer": "ipython3",
   "version": "3.8.11"
  }
 },
 "nbformat": 4,
 "nbformat_minor": 5
}
